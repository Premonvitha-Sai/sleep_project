{
 "cells": [
  {
   "cell_type": "code",
   "execution_count": 1,
   "metadata": {},
   "outputs": [],
   "source": [
    "import pandas as pd\n",
    "import numpy as np\n",
    "from model import cleaned_fr\n",
    "import seaborn as sns\n",
    "import matplotlib.pyplot as plt\n",
    "import warnings\n",
    "warnings.filterwarnings(\"ignore\")"
   ]
  },
  {
   "cell_type": "markdown",
   "metadata": {},
   "source": [
    "# IMPORTING ML LIBRARIES"
   ]
  },
  {
   "cell_type": "code",
   "execution_count": 2,
   "metadata": {},
   "outputs": [],
   "source": [
    "from sklearn.model_selection import RepeatedKFold\n",
    "from sklearn.preprocessing import MinMaxScaler, RobustScaler, FunctionTransformer\n",
    "from sklearn.compose import ColumnTransformer\n",
    "from sklearn.pipeline import Pipeline\n",
    "\n",
    "from sklearn.naive_bayes import BernoulliNB, GaussianNB\n",
    "from sklearn.tree import DecisionTreeClassifier\n",
    "from sklearn.ensemble import ExtraTreesClassifier\n",
    "from sklearn.neighbors import KNeighborsClassifier\n",
    "from sklearn.svm import SVC\n",
    "from sklearn.linear_model import LogisticRegression\n",
    "from sklearn.neural_network import MLPClassifier\n",
    "from xgboost import XGBClassifier\n",
    "\n",
    "from sklearn.metrics import accuracy_score, precision_score, recall_score, f1_score, roc_auc_score"
   ]
  },
  {
   "cell_type": "markdown",
   "metadata": {},
   "source": [
    "# _Robust Scaled Model no Systolic_"
   ]
  },
  {
   "cell_type": "markdown",
   "metadata": {},
   "source": [
    "# Implementation Model-1\n",
    "\n",
    "Fitting some basic models and assessing their performance without any parameter fine-tunning."
   ]
  },
  {
   "cell_type": "code",
   "execution_count": 3,
   "metadata": {},
   "outputs": [],
   "source": [
    "# Models in experiment 1\n",
    "models = {\n",
    "            'BernoulliNB' : BernoulliNB(),\n",
    "            'GaussianNB' : GaussianNB(),\n",
    "            'DTr' : DecisionTreeClassifier(),\n",
    "            'ExTrs': ExtraTreesClassifier(),\n",
    "            'KNeigh' : KNeighborsClassifier(),\n",
    "            'svc': SVC(probability=True),\n",
    "            'xgb' : XGBClassifier(),\n",
    "            'logistic' : LogisticRegression(),\n",
    "            'MLP' : MLPClassifier()\n",
    "        }"
   ]
  },
  {
   "cell_type": "code",
   "execution_count": 4,
   "metadata": {},
   "outputs": [],
   "source": [
    "# Importing cleaned frame\n",
    "df = cleaned_fr(avoid_systolic=True)\n",
    "\n",
    "# Separating\n",
    "X, y = df.iloc[:, :-1], df.iloc[:, -1]\n",
    "\n",
    "# Select binary columns to avoid scaling below\n",
    "binary_cols = X.select_dtypes('uint8').columns\n",
    "\n",
    "# Remaining columns\n",
    "non_binary_cols = [col for col in X.columns if col not in binary_cols]\n",
    "\n",
    "# Times to repeat Kfold instance\n",
    "rKF = RepeatedKFold(n_repeats=34, n_splits=3, random_state=23)"
   ]
  },
  {
   "cell_type": "code",
   "execution_count": 6,
   "metadata": {},
   "outputs": [],
   "source": [
    "# Transformer that scales the non-binary columns and does nothing to the binary columns\n",
    "preprocessor = ColumnTransformer(\n",
    "    transformers=[\n",
    "        ('num', RobustScaler(), non_binary_cols),\n",
    "        ('bin', FunctionTransformer(None, validate=False), binary_cols) # does nothing\n",
    "    ])\n",
    "\n",
    "_folds, _names, _accuracy, _precision, _recall, _f1, _auc, _set_type = [], [], [], [], [], [], [], []\n",
    "\n",
    "for MODEL_NAME, ML_MODEL in models.items():\n",
    "    for fold_id, (train_index, test_index) in enumerate(rKF.split(X)):\n",
    "        \n",
    "        # Train test split\n",
    "        X_train, y_train = X.iloc[train_index], y.iloc[train_index]\n",
    "        X_test, y_test = X.iloc[test_index], y.iloc[test_index] \n",
    "\n",
    "        # Pipeline for training\n",
    "        _local_pipe = Pipeline([\n",
    "                                ('preprocessor', preprocessor),\n",
    "                                (MODEL_NAME, ML_MODEL)\n",
    "                            ])\n",
    "\n",
    "        # Fitting\n",
    "        _local_pipe.fit(X_train, y_train)\n",
    "\n",
    "        # Test the results in training and test to check for overfitting\n",
    "        lab = {'train' : (X_train, y_train), 'test': (X_test, y_test)}\n",
    "\n",
    "        for lab_type, (X1,Y1) in lab.items():\n",
    "\n",
    "            # Keeping len\n",
    "            _folds.append(fold_id)\n",
    "            _names.append(MODEL_NAME)\n",
    "            _set_type.append( lab_type )\n",
    "\n",
    "            # Predictions\n",
    "            y_pred = _local_pipe.predict(X1)\n",
    "\n",
    "            # Proba for AUC\n",
    "            y_proba = _local_pipe.predict_proba(X1)[:, 1]  # Probabilities for the positive class\n",
    "            _auc.append( roc_auc_score(Y1, y_proba) )\n",
    "            \n",
    "            # Metrics\n",
    "            _accuracy.append( accuracy_score(Y1, y_pred) )\n",
    "            _precision.append( precision_score(Y1, y_pred) )\n",
    "            _recall.append( recall_score(Y1, y_pred) ) #<-- intended\n",
    "            _f1.append( f1_score(Y1, y_pred) )"
   ]
  },
  {
   "cell_type": "code",
   "execution_count": null,
   "metadata": {},
   "outputs": [],
   "source": [
    "# Saving in DataFrame\n",
    "result_df = pd.DataFrame( {'fold_id':_folds, 'model_name':_names, 'set': _set_type, 'accuracy':_accuracy, 'precision':_precision, 'recall':_recall, 'f1':_f1, 'auc':_auc} )\n"
   ]
  },
  {
   "cell_type": "code",
   "execution_count": null,
   "metadata": {},
   "outputs": [
    {
     "data": {
      "text/html": [
       "<div>\n",
       "<style scoped>\n",
       "    .dataframe tbody tr th:only-of-type {\n",
       "        vertical-align: middle;\n",
       "    }\n",
       "\n",
       "    .dataframe tbody tr th {\n",
       "        vertical-align: top;\n",
       "    }\n",
       "\n",
       "    .dataframe thead th {\n",
       "        text-align: right;\n",
       "    }\n",
       "</style>\n",
       "<table border=\"1\" class=\"dataframe\">\n",
       "  <thead>\n",
       "    <tr style=\"text-align: right;\">\n",
       "      <th>set</th>\n",
       "      <th>train</th>\n",
       "      <th>test</th>\n",
       "    </tr>\n",
       "    <tr>\n",
       "      <th>model_name</th>\n",
       "      <th></th>\n",
       "      <th></th>\n",
       "    </tr>\n",
       "  </thead>\n",
       "  <tbody>\n",
       "    <tr>\n",
       "      <th>svc</th>\n",
       "      <td>0.922556</td>\n",
       "      <td>0.921735</td>\n",
       "    </tr>\n",
       "    <tr>\n",
       "      <th>GaussianNB</th>\n",
       "      <td>0.919682</td>\n",
       "      <td>0.916567</td>\n",
       "    </tr>\n",
       "    <tr>\n",
       "      <th>MLP</th>\n",
       "      <td>0.920376</td>\n",
       "      <td>0.915904</td>\n",
       "    </tr>\n",
       "    <tr>\n",
       "      <th>xgb</th>\n",
       "      <td>0.924952</td>\n",
       "      <td>0.909378</td>\n",
       "    </tr>\n",
       "    <tr>\n",
       "      <th>KNeigh</th>\n",
       "      <td>0.913085</td>\n",
       "      <td>0.899896</td>\n",
       "    </tr>\n",
       "    <tr>\n",
       "      <th>logistic</th>\n",
       "      <td>0.902433</td>\n",
       "      <td>0.898346</td>\n",
       "    </tr>\n",
       "    <tr>\n",
       "      <th>BernoulliNB</th>\n",
       "      <td>0.896824</td>\n",
       "      <td>0.896627</td>\n",
       "    </tr>\n",
       "    <tr>\n",
       "      <th>ExTrs</th>\n",
       "      <td>0.920281</td>\n",
       "      <td>0.878294</td>\n",
       "    </tr>\n",
       "    <tr>\n",
       "      <th>DTr</th>\n",
       "      <td>0.920281</td>\n",
       "      <td>0.875935</td>\n",
       "    </tr>\n",
       "  </tbody>\n",
       "</table>\n",
       "</div>"
      ],
      "text/plain": [
       "set             train      test\n",
       "model_name                     \n",
       "svc          0.922556  0.921735\n",
       "GaussianNB   0.919682  0.916567\n",
       "MLP          0.920376  0.915904\n",
       "xgb          0.924952  0.909378\n",
       "KNeigh       0.913085  0.899896\n",
       "logistic     0.902433  0.898346\n",
       "BernoulliNB  0.896824  0.896627\n",
       "ExTrs        0.920281  0.878294\n",
       "DTr          0.920281  0.875935"
      ]
     },
     "execution_count": 7,
     "metadata": {},
     "output_type": "execute_result"
    }
   ],
   "source": [
    "# Quick  look to the average performance\n",
    "result_df.groupby(by=['model_name','set']).agg({'mean'}).loc[:,'recall'].unstack().droplevel(0,axis=1).filter(['train','test']).sort_values(by=['test'], ascending=False)"
   ]
  },
  {
   "cell_type": "code",
   "execution_count": null,
   "metadata": {},
   "outputs": [
    {
     "data": {
      "text/html": [
       "<div>\n",
       "<style scoped>\n",
       "    .dataframe tbody tr th:only-of-type {\n",
       "        vertical-align: middle;\n",
       "    }\n",
       "\n",
       "    .dataframe tbody tr th {\n",
       "        vertical-align: top;\n",
       "    }\n",
       "\n",
       "    .dataframe thead th {\n",
       "        text-align: right;\n",
       "    }\n",
       "</style>\n",
       "<table border=\"1\" class=\"dataframe\">\n",
       "  <thead>\n",
       "    <tr style=\"text-align: right;\">\n",
       "      <th>set</th>\n",
       "      <th>train</th>\n",
       "      <th>test</th>\n",
       "    </tr>\n",
       "    <tr>\n",
       "      <th>model_name</th>\n",
       "      <th></th>\n",
       "      <th></th>\n",
       "    </tr>\n",
       "  </thead>\n",
       "  <tbody>\n",
       "    <tr>\n",
       "      <th>svc</th>\n",
       "      <td>0.017024</td>\n",
       "      <td>0.033867</td>\n",
       "    </tr>\n",
       "    <tr>\n",
       "      <th>BernoulliNB</th>\n",
       "      <td>0.018487</td>\n",
       "      <td>0.035979</td>\n",
       "    </tr>\n",
       "    <tr>\n",
       "      <th>xgb</th>\n",
       "      <td>0.017079</td>\n",
       "      <td>0.036583</td>\n",
       "    </tr>\n",
       "    <tr>\n",
       "      <th>MLP</th>\n",
       "      <td>0.017463</td>\n",
       "      <td>0.037003</td>\n",
       "    </tr>\n",
       "    <tr>\n",
       "      <th>logistic</th>\n",
       "      <td>0.018465</td>\n",
       "      <td>0.037243</td>\n",
       "    </tr>\n",
       "    <tr>\n",
       "      <th>GaussianNB</th>\n",
       "      <td>0.014940</td>\n",
       "      <td>0.040144</td>\n",
       "    </tr>\n",
       "    <tr>\n",
       "      <th>KNeigh</th>\n",
       "      <td>0.020188</td>\n",
       "      <td>0.043232</td>\n",
       "    </tr>\n",
       "    <tr>\n",
       "      <th>ExTrs</th>\n",
       "      <td>0.017235</td>\n",
       "      <td>0.055343</td>\n",
       "    </tr>\n",
       "    <tr>\n",
       "      <th>DTr</th>\n",
       "      <td>0.017235</td>\n",
       "      <td>0.058129</td>\n",
       "    </tr>\n",
       "  </tbody>\n",
       "</table>\n",
       "</div>"
      ],
      "text/plain": [
       "set             train      test\n",
       "model_name                     \n",
       "svc          0.017024  0.033867\n",
       "BernoulliNB  0.018487  0.035979\n",
       "xgb          0.017079  0.036583\n",
       "MLP          0.017463  0.037003\n",
       "logistic     0.018465  0.037243\n",
       "GaussianNB   0.014940  0.040144\n",
       "KNeigh       0.020188  0.043232\n",
       "ExTrs        0.017235  0.055343\n",
       "DTr          0.017235  0.058129"
      ]
     },
     "execution_count": 8,
     "metadata": {},
     "output_type": "execute_result"
    }
   ],
   "source": [
    "# Quick  look to the average performance\n",
    "result_df.groupby(by=['model_name','set']).agg({'std'}).loc[:,'recall'].unstack().droplevel(0,axis=1).filter(['train','test']).sort_values(by=['test'])"
   ]
  },
  {
   "cell_type": "code",
   "execution_count": null,
   "metadata": {},
   "outputs": [
    {
     "data": {
      "image/png": "[encoded data removed]",
      "text/plain": [
       "<Figure size 1200x400 with 1 Axes>"
      ]
     },
     "metadata": {},
     "output_type": "display_data"
    }
   ],
   "source": [
    "fig, ax = plt.subplots(figsize=(12,4))\n",
    "\n",
    "sns.barplot(\n",
    "    data = result_df.filter(['fold_id', 'model_name', 'set'] + [\"recall\"]),\n",
    "    x=\"model_name\", y=\"recall\", hue=\"set\",\n",
    "    palette=\"Reds\", alpha=.75, ax=ax, errorbar='sd'\n",
    ")\n",
    "\n",
    "sns.despine(top=True, right=True)\n",
    "\n",
    "# Set y-axis limits\n",
    "ax.set_ylim(0.7, 1)\n",
    "\n",
    "# Move legend outside of the plot\n",
    "ax.legend(loc='upper left', bbox_to_anchor=(1, 1))\n",
    "\n",
    "plt.tight_layout()  # Adjust layout so everything fits nicely\n",
    "plt.savefig('experiment1_recall_NoSys.png', dpi=200 )\n",
    "plt.show()"
   ]
  },
  {
   "cell_type": "markdown",
   "metadata": {},
   "source": [
    "Being _SVC_ also a predominant model, let's keep it for the no systolic approach of the prediction as well."
   ]
  },
  {
   "cell_type": "code",
   "execution_count": null,
   "metadata": {},
   "outputs": [],
   "source": [
    "# Saving Result\n",
    "result_df.to_csv('Data/NoSystolicResultsExperiment1.csv')"
   ]
  },
  {
   "cell_type": "markdown",
   "metadata": {},
   "source": [
    "# Stress Testing SVC"
   ]
  },
  {
   "cell_type": "code",
   "execution_count": null,
   "metadata": {},
   "outputs": [],
   "source": [
    "# Importing cleaned frame\n",
    "df = cleaned_fr(avoid_systolic=True)\n",
    "\n",
    "# Separating\n",
    "X, y = df.iloc[:, :-1], df.iloc[:, -1]\n",
    "\n",
    "# Times to repeat Kfold instance (Aumented repetitions)\n",
    "rKF = RepeatedKFold(n_repeats=100, n_splits=3, random_state=23)"
   ]
  },
  {
   "cell_type": "code",
   "execution_count": null,
   "metadata": {},
   "outputs": [],
   "source": [
    "models = {'svc' : SVC(probability=True) }\n",
    "\n",
    "# Transformer that scales the non-binary columns and does nothing to the binary columns\n",
    "preprocessor = ColumnTransformer(\n",
    "    transformers=[\n",
    "        ('num', RobustScaler(), non_binary_cols),\n",
    "        ('bin', FunctionTransformer(None, validate=False), binary_cols) # does nothing\n",
    "    ])\n",
    "\n",
    "_folds, _names, _accuracy, _precision, _recall, _f1, _auc, _set_type = [], [], [], [], [], [], [], []\n",
    "\n",
    "for MODEL_NAME, ML_MODEL in models.items():\n",
    "    for fold_id, (train_index, test_index) in enumerate(rKF.split(X)):\n",
    "        \n",
    "        # Train test split\n",
    "        X_train, y_train = X.iloc[train_index], y.iloc[train_index]\n",
    "        X_test, y_test = X.iloc[test_index], y.iloc[test_index] \n",
    "\n",
    "        # Pipeline for training\n",
    "        _local_pipe = Pipeline([\n",
    "                                ('preprocessor', preprocessor),\n",
    "                                (MODEL_NAME, ML_MODEL)\n",
    "                            ])\n",
    "\n",
    "        # Fitting\n",
    "        _local_pipe.fit(X_train, y_train)\n",
    "\n",
    "        # Test the results in training and test to check for overfitting\n",
    "        lab = {'train' : (X_train, y_train), 'test': (X_test, y_test)}\n",
    "\n",
    "        for lab_type, (X1,Y1) in lab.items():\n",
    "\n",
    "            # Keeping len\n",
    "            _folds.append(fold_id)\n",
    "            _names.append(MODEL_NAME)\n",
    "            _set_type.append( lab_type )\n",
    "\n",
    "            # Predictions\n",
    "            y_pred = _local_pipe.predict(X1)\n",
    "            \n",
    "            # Metrics\n",
    "            _accuracy.append( accuracy_score(Y1, y_pred) )\n",
    "            _precision.append( precision_score(Y1, y_pred) )\n",
    "            _recall.append( recall_score(Y1, y_pred) ) #<-- intended\n",
    "            _f1.append( f1_score(Y1, y_pred) )"
   ]
  },
  {
   "cell_type": "code",
   "execution_count": null,
   "metadata": {},
   "outputs": [],
   "source": [
    "# Saving in DataFrame\n",
    "result2_df = pd.DataFrame( {'fold_id':_folds, 'model_name':_names, 'set': _set_type, 'accuracy':_accuracy, 'precision':_precision, 'recall':_recall, 'f1':_f1} )"
   ]
  },
  {
   "cell_type": "code",
   "execution_count": null,
   "metadata": {},
   "outputs": [
    {
     "data": {
      "text/html": [
       "<div>\n",
       "<style scoped>\n",
       "    .dataframe tbody tr th:only-of-type {\n",
       "        vertical-align: middle;\n",
       "    }\n",
       "\n",
       "    .dataframe tbody tr th {\n",
       "        vertical-align: top;\n",
       "    }\n",
       "\n",
       "    .dataframe thead th {\n",
       "        text-align: right;\n",
       "    }\n",
       "</style>\n",
       "<table border=\"1\" class=\"dataframe\">\n",
       "  <thead>\n",
       "    <tr style=\"text-align: right;\">\n",
       "      <th>set</th>\n",
       "      <th>train</th>\n",
       "      <th>test</th>\n",
       "    </tr>\n",
       "    <tr>\n",
       "      <th>model_name</th>\n",
       "      <th></th>\n",
       "      <th></th>\n",
       "    </tr>\n",
       "  </thead>\n",
       "  <tbody>\n",
       "    <tr>\n",
       "      <th>svc</th>\n",
       "      <td>0.922569</td>\n",
       "      <td>0.921838</td>\n",
       "    </tr>\n",
       "  </tbody>\n",
       "</table>\n",
       "</div>"
      ],
      "text/plain": [
       "set            train      test\n",
       "model_name                    \n",
       "svc         0.922569  0.921838"
      ]
     },
     "execution_count": 14,
     "metadata": {},
     "output_type": "execute_result"
    }
   ],
   "source": [
    "# Quick  look to the average performance\n",
    "result2_df.groupby(by=['model_name','set']).agg({'mean'}).loc[:,'recall'].unstack().droplevel(0,axis=1).filter(['train','test']).sort_values(by=['test'], ascending=False)"
   ]
  },
  {
   "cell_type": "markdown",
   "metadata": {},
   "source": [
    "# Saving Selected Model\n"
   ]
  },
  {
   "cell_type": "code",
   "execution_count": null,
   "metadata": {},
   "outputs": [],
   "source": [
    "from model import train_and_save_model\n",
    "import joblib"
   ]
  },
  {
   "cell_type": "code",
   "execution_count": null,
   "metadata": {},
   "outputs": [],
   "source": [
    "train_and_save_model('NoSystolic_ScaledModelSVC', SVC(probability=True) )"
   ]
  },
  {
   "cell_type": "markdown",
   "metadata": {},
   "source": [
    "# Model Conclusion\n",
    "\n",
    "Since performance is not harmed when avoiding systolic information it makes sense to keep a simpler model with less features for the front-end model."
   ]
  }
 ],
 "metadata": {
  "kernelspec": {
   "display_name": "Python 3",
   "language": "python",
   "name": "python3"
  },
  "language_info": {
   "codemirror_mode": {
    "name": "ipython",
    "version": 3
   },
   "file_extension": ".py",
   "mimetype": "text/x-python",
   "name": "python",
   "nbconvert_exporter": "python",
   "pygments_lexer": "ipython3",
   "version": "3.11.4"
  }
 },
 "nbformat": 4,
 "nbformat_minor": 2
}
